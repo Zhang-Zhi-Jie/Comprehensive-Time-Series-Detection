{
 "nbformat": 4,
 "nbformat_minor": 2,
 "metadata": {
  "language_info": {
   "name": "python",
   "codemirror_mode": {
    "name": "ipython",
    "version": 3
   },
   "version": "3.7.6-final"
  },
  "orig_nbformat": 2,
  "file_extension": ".py",
  "mimetype": "text/x-python",
  "name": "python",
  "npconvert_exporter": "python",
  "pygments_lexer": "ipython3",
  "version": 3,
  "kernelspec": {
   "name": "python37664bitvenvconda73a15968bf004ad4b8566d277b2b50d0",
   "display_name": "Python 3.7.6 64-bit ('venv': conda)"
  }
 },
 "cells": [
  {
   "cell_type": "code",
   "execution_count": 5,
   "metadata": {},
   "outputs": [],
   "source": [
    "y_true = [0, 1, 1, 0, 1, 1] \n",
    "y_pred = [0, 1, 1, 0, 0, 1]"
   ]
  },
  {
   "cell_type": "code",
   "execution_count": 2,
   "metadata": {},
   "outputs": [],
   "source": [
    "from sklearn.metrics import f1_score, precision_score, recall_score"
   ]
  },
  {
   "cell_type": "code",
   "execution_count": 6,
   "metadata": {},
   "outputs": [
    {
     "output_type": "execute_result",
     "data": {
      "text/plain": "0.8571428571428571"
     },
     "metadata": {},
     "execution_count": 6
    }
   ],
   "source": [
    "f1 = f1_score(y_true, y_pred)\n",
    "f1"
   ]
  },
  {
   "cell_type": "code",
   "execution_count": 7,
   "metadata": {},
   "outputs": [
    {
     "output_type": "stream",
     "name": "stdout",
     "text": "1.0\n0.75\n"
    }
   ],
   "source": [
    "pre = precision_score(y_true, y_pred)\n",
    "print(pre)\n",
    "rec = recall_score(y_true, y_pred)\n",
    "print(rec)"
   ]
  },
  {
   "cell_type": "code",
   "execution_count": 8,
   "metadata": {},
   "outputs": [
    {
     "output_type": "stream",
     "name": "stdout",
     "text": "chfdbchf15.pkl\nchfdb_chf01_275.pkl\nchfdb_chf13_45590.pkl\nltstdb_20221_43.pkl\nltstdb_20321_240.pkl\nmitdbx_mitdbx_108.pkl\nmitdb__100_180.pkl\nqtdbsel102.pkl\nqtdbsele0606.pkl\nstdb_308_0.pkl\nxmitdb_x108_0.pkl\nann_gun_CentroidA.pkl\npower_data.pkl\nnprs43.pkl\nnprs44.pkl\nTEK14.pkl\nTEK16.pkl\nTEK17.pkl\n"
    }
   ],
   "source": [
    "import os\n",
    "DATA_PATH = \"./data\"\n",
    "data_dir_list = os.listdir(DATA_PATH)\n",
    "for obj in data_dir_list:\n",
    "    DATA_TYPE_PATH = os.path.join(DATA_PATH, obj)\n",
    "    if os.path.isdir(DATA_TYPE_PATH) and obj != \"nyc_taxi\" \\\n",
    "    and obj != \"__pycache__\":\n",
    "        data_type = obj\n",
    "        DATA_FILE_PATH = os.path.join(DATA_TYPE_PATH, \"labeled/whole\")\n",
    "        file_dir_list = os.listdir(DATA_FILE_PATH)\n",
    "        for file in file_dir_list:\n",
    "            print(file)"
   ]
  },
  {
   "cell_type": "code",
   "execution_count": null,
   "metadata": {},
   "outputs": [],
   "source": []
  }
 ]
}